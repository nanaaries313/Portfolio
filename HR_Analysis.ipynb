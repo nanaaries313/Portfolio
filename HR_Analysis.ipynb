{
  "nbformat": 4,
  "nbformat_minor": 0,
  "metadata": {
    "colab": {
      "provenance": [],
      "mount_file_id": "1y9wyoEqcu2mvoQRCakUa8-L9cLGeP056",
      "authorship_tag": "ABX9TyMxcEAAGoJS2jxrMGHN/d0g",
      "include_colab_link": true
    },
    "kernelspec": {
      "name": "python3",
      "display_name": "Python 3"
    },
    "language_info": {
      "name": "python"
    }
  },
  "cells": [
    {
      "cell_type": "markdown",
      "metadata": {
        "id": "view-in-github",
        "colab_type": "text"
      },
      "source": [
        "<a href=\"https://colab.research.google.com/github/nanaaries313/Portfolio/blob/main/HR_Analysis.ipynb\" target=\"_parent\"><img src=\"https://colab.research.google.com/assets/colab-badge.svg\" alt=\"Open In Colab\"/></a>"
      ]
    },
    {
      "cell_type": "code",
      "execution_count": 16,
      "metadata": {
        "colab": {
          "base_uri": "https://localhost:8080/"
        },
        "id": "Xj79T9JAeJs8",
        "outputId": "3d8a90d3-fe0f-4597-e4d9-9f16f894084f"
      },
      "outputs": [
        {
          "output_type": "stream",
          "name": "stdout",
          "text": [
            "Requirement already satisfied: XlsxWriter in /usr/local/lib/python3.11/dist-packages (3.2.2)\n"
          ]
        }
      ],
      "source": [
        "!pip install XlsxWriter\n",
        "import os\n",
        "import numpy as np\n",
        "import pandas as pd\n",
        "import matplotlib.pyplot as plt\n",
        "import seaborn as sns\n",
        "\n",
        "\n",
        "%matplotlib inline"
      ]
    },
    {
      "cell_type": "code",
      "source": [
        "from google.colab import drive\n",
        "drive.mount('/content/drive')"
      ],
      "metadata": {
        "colab": {
          "base_uri": "https://localhost:8080/"
        },
        "id": "eUb3yUI7fmy7",
        "outputId": "3c9932d6-21d3-4bcb-d706-03a4228f9351"
      },
      "execution_count": 11,
      "outputs": [
        {
          "output_type": "stream",
          "name": "stdout",
          "text": [
            "Drive already mounted at /content/drive; to attempt to forcibly remount, call drive.mount(\"/content/drive\", force_remount=True).\n"
          ]
        }
      ]
    },
    {
      "cell_type": "code",
      "source": [
        "xlsx_url = '/content/drive/My Drive/HR_Employee_Data.xlsx'\n",
        "hr = pd.read_excel(xlsx_url)"
      ],
      "metadata": {
        "id": "JkjL_W2jeOnH"
      },
      "execution_count": 14,
      "outputs": []
    },
    {
      "cell_type": "code",
      "source": [
        "file_name, file_ext = os.path.splitext(xlsx_url)\n",
        "Modified_HR_Workbook = file_name + \"_copy\" + file_ext"
      ],
      "metadata": {
        "id": "xFNhhCAkiCnK"
      },
      "execution_count": 17,
      "outputs": []
    },
    {
      "cell_type": "code",
      "source": [
        "writer = pd.ExcelWriter(Modified_HR_Workbook, engine='xlsxwriter')\n",
        "\n",
        "hr [['Emp_Id','satisfaction_level']].to_excel(writer, sheet_name='employee_id')\n",
        "hr ['satisfaction_level'].to_excel(writer, sheet_name='satisfaction_level')\n",
        "hr ['last_evaluation'].to_excel(writer, sheet_name='last_evaluation')\n",
        "hr ['number_project'].to_excel(writer, sheet_name='number_project')\n",
        "\n",
        "\n",
        "writer.close()"
      ],
      "metadata": {
        "id": "AyCjj2WNeTe6"
      },
      "execution_count": 19,
      "outputs": []
    }
  ]
}