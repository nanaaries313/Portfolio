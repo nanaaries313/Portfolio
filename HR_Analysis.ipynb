{
  "nbformat": 4,
  "nbformat_minor": 0,
  "metadata": {
    "colab": {
      "provenance": [],
      "authorship_tag": "ABX9TyM0HgA67C16+ohowtyEnRrY",
      "include_colab_link": true
    },
    "kernelspec": {
      "name": "python3",
      "display_name": "Python 3"
    },
    "language_info": {
      "name": "python"
    }
  },
  "cells": [
    {
      "cell_type": "markdown",
      "metadata": {
        "id": "view-in-github",
        "colab_type": "text"
      },
      "source": [
        "<a href=\"https://colab.research.google.com/github/nanaaries313/Portfolio/blob/main/HR_Analysis.ipynb\" target=\"_parent\"><img src=\"https://colab.research.google.com/assets/colab-badge.svg\" alt=\"Open In Colab\"/></a>"
      ]
    },
    {
      "cell_type": "code",
      "execution_count": 1,
      "metadata": {
        "colab": {
          "base_uri": "https://localhost:8080/"
        },
        "id": "Xj79T9JAeJs8",
        "outputId": "5658583b-1c82-4166-dada-36e2d9a7bd8b"
      },
      "outputs": [
        {
          "output_type": "stream",
          "name": "stdout",
          "text": [
            "Collecting XlsxWriter\n",
            "  Downloading XlsxWriter-3.2.2-py3-none-any.whl.metadata (2.8 kB)\n",
            "Downloading XlsxWriter-3.2.2-py3-none-any.whl (165 kB)\n",
            "\u001b[?25l   \u001b[90m━━━━━━━━━━━━━━━━━━━━━━━━━━━━━━━━━━━━━━━━\u001b[0m \u001b[32m0.0/165.1 kB\u001b[0m \u001b[31m?\u001b[0m eta \u001b[36m-:--:--\u001b[0m\r\u001b[2K   \u001b[90m━━━━━━━━━━━━━━━━━━━━━━━━━━━━━━━━━━━━━━━━\u001b[0m \u001b[32m165.1/165.1 kB\u001b[0m \u001b[31m8.1 MB/s\u001b[0m eta \u001b[36m0:00:00\u001b[0m\n",
            "\u001b[?25hInstalling collected packages: XlsxWriter\n",
            "Successfully installed XlsxWriter-3.2.2\n"
          ]
        }
      ],
      "source": [
        "!pip install XlsxWriter\n",
        "import numpy as np\n",
        "import pandas as pd\n",
        "import matplotlib.pyplot as plt\n",
        "import seaborn as sns\n",
        "\n",
        "\n",
        "%matplotlib inline"
      ]
    },
    {
      "cell_type": "code",
      "source": [
        "xlsx_url = '/HR_Employee_Data.xlsx'\n",
        "hr = pd.read_excel(xlsx_url)"
      ],
      "metadata": {
        "id": "JkjL_W2jeOnH"
      },
      "execution_count": 5,
      "outputs": []
    },
    {
      "cell_type": "code",
      "source": [
        "writer = pd.ExcelWriter(xlsx_url, engine='xlsxwriter')\n",
        "\n",
        "hr [['Emp_Id','satisfaction_level']].to_excel(writer, sheet_name='employee_id')\n",
        "hr ['satisfaction_level'].to_excel(writer, sheet_name='satisfaction_level')\n",
        "hr ['last_evaluation'].to_excel(writer, sheet_name='last_evaluation')\n",
        "hr ['number_project'].to_excel(writer, sheet_name='number_project')\n",
        "\n",
        "\n",
        "writer.close()"
      ],
      "metadata": {
        "id": "AyCjj2WNeTe6"
      },
      "execution_count": 8,
      "outputs": []
    }
  ]
}